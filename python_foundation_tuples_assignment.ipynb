{
 "cells": [
  {
   "cell_type": "markdown",
   "id": "137d6106-9904-4271-9388-876eb0d47af2",
   "metadata": {},
   "source": [
    "# ANSWER 1\n",
    "Tuples are used to store multiple items in a single variable. Tuple is one of 4 built-in data types in Python used to store collections of data, the other 3 are List, Set, and Dictionary, all with different qualities and usage. A tuple is a collection which is ordered and unchangeable."
   ]
  },
  {
   "cell_type": "code",
   "execution_count": 4,
   "id": "4199155a-ee16-4e00-ad83-485ad21bec3d",
   "metadata": {},
   "outputs": [],
   "source": [
    "#                           Answer 2\n",
    "tuples = (0, [1, 2, 3], (4, 5, 6), 7.0)"
   ]
  },
  {
   "cell_type": "markdown",
   "id": "fad7c0aa-0616-48d0-87ac-d4475739221b",
   "metadata": {},
   "source": [
    "# ANSWER 3\n",
    "The list is dynamic, whereas the tuple has static characteristics. This means that lists can be modified whereas tuples cannot be modified, the tuple is faster than the list because of static in nature. Lists are denoted by the square brackets but tuples are denoted as parenthesis."
   ]
  },
  {
   "cell_type": "markdown",
   "id": "c10a0aae-1e9c-469c-8a9b-8d5ea1de0c10",
   "metadata": {},
   "source": [
    "# ANSWER 4\n",
    "Once a tuple is created, you cannot change its values. Tuples are unchangeable, or immutable as it also is called."
   ]
  },
  {
   "cell_type": "markdown",
   "id": "a678bc57-56fb-48bd-ad9f-e689dab884c4",
   "metadata": {},
   "source": [
    "# ANSWER 5\n",
    "Accessing elements in a tuple in the same way as we do in lists and strings. Hence, we can access elements simply by indexing and slicing. Furthermore, the indexing is simple as in lists, starting from the index zero."
   ]
  },
  {
   "cell_type": "markdown",
   "id": "1a6a35d0-19df-4263-89cd-2899b867dc21",
   "metadata": {},
   "source": [
    "# ANSWER 6\n",
    "Use the * operator to unpack the tuple and pass their contents as arguments to the lambda function."
   ]
  },
  {
   "cell_type": "code",
   "execution_count": null,
   "id": "62860b94-7879-4ebf-91ea-5bcb98849c73",
   "metadata": {},
   "outputs": [],
   "source": []
  },
  {
   "cell_type": "code",
   "execution_count": null,
   "id": "fc1541ef-6547-4777-ba00-03f1c2b96058",
   "metadata": {},
   "outputs": [],
   "source": []
  },
  {
   "cell_type": "code",
   "execution_count": null,
   "id": "d8084ed9-9341-46c6-b3d1-efdc1ce93678",
   "metadata": {},
   "outputs": [],
   "source": []
  },
  {
   "cell_type": "code",
   "execution_count": null,
   "id": "d9e1d1ad-9d96-4194-affc-6ca85a5f0547",
   "metadata": {},
   "outputs": [],
   "source": []
  }
 ],
 "metadata": {
  "kernelspec": {
   "display_name": "Python 3 (ipykernel)",
   "language": "python",
   "name": "python3"
  },
  "language_info": {
   "codemirror_mode": {
    "name": "ipython",
    "version": 3
   },
   "file_extension": ".py",
   "mimetype": "text/x-python",
   "name": "python",
   "nbconvert_exporter": "python",
   "pygments_lexer": "ipython3",
   "version": "3.10.6"
  }
 },
 "nbformat": 4,
 "nbformat_minor": 5
}
